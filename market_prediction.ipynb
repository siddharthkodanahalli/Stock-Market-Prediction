{
  "cells": [
    {
      "cell_type": "code",
      "execution_count": null,
      "id": "31c19ae2",
      "metadata": {
        "_cell_guid": "b1076dfc-b9ad-4769-8c92-a6c4dae69d19",
        "_uuid": "8f2839f25d086af736a60e9eeb907d3b93b6e0e5",
        "execution": {
          "iopub.execute_input": "2022-04-18T02:37:49.209881Z",
          "iopub.status.busy": "2022-04-18T02:37:49.204564Z",
          "iopub.status.idle": "2022-04-18T02:37:54.870160Z",
          "shell.execute_reply": "2022-04-18T02:37:54.870776Z",
          "shell.execute_reply.started": "2022-04-10T03:01:22.632397Z"
        },
        "papermill": {
          "duration": 5.689645,
          "end_time": "2022-04-18T02:37:54.871075",
          "exception": false,
          "start_time": "2022-04-18T02:37:49.181430",
          "status": "completed"
        },
        "tags": [],
        "id": "31c19ae2"
      },
      "outputs": [],
      "source": [
        "import os\n",
        "import pandas as pd\n",
        "import numpy as np\n",
        "import gc\n",
        "import matplotlib.pyplot as plt\n",
        "import tensorflow as tf\n",
        "from tensorflow.keras import layers\n",
        "from tensorflow import keras\n",
        "import mlcrate as mlc\n",
        "import pickle as pkl\n",
        "from tensorflow.keras.layers import BatchNormalization\n",
        "from keras.models import Sequential, Model\n",
        "from keras.layers import Input, Embedding, Dense, Flatten, Concatenate, Dot, Reshape, Add, Subtract\n",
        "from keras import backend as K\n",
        "from keras import regularizers \n",
        "from tensorflow.keras.optimizers import Adam\n",
        "from keras.callbacks import EarlyStopping, ModelCheckpoint\n",
        "from keras.regularizers import l2\n",
        "from sklearn.base import clone\n",
        "from typing import Dict\n",
        "import matplotlib.pyplot as plt\n",
        "from scipy import stats\n",
        "from tensorflow.keras.losses import Loss\n",
        "from tensorflow.keras import backend as K\n",
        "from sklearn.linear_model import LogisticRegression\n",
        "from sklearn.model_selection import TimeSeriesSplit, StratifiedKFold, KFold, GroupKFold\n",
        "from tqdm import tqdm\n",
        "from tensorflow.python.ops import math_ops\n",
        "tf.random.set_seed(45)"
      ]
    },
    {
      "cell_type": "code",
      "execution_count": null,
      "id": "ff799837",
      "metadata": {
        "execution": {
          "iopub.execute_input": "2022-04-18T02:37:54.907664Z",
          "iopub.status.busy": "2022-04-18T02:37:54.907085Z",
          "iopub.status.idle": "2022-04-18T02:38:10.126021Z",
          "shell.execute_reply": "2022-04-18T02:38:10.126574Z",
          "shell.execute_reply.started": "2022-04-10T03:01:28.56822Z"
        },
        "papermill": {
          "duration": 15.239399,
          "end_time": "2022-04-18T02:38:10.126769",
          "exception": false,
          "start_time": "2022-04-18T02:37:54.887370",
          "status": "completed"
        },
        "tags": [],
        "id": "ff799837",
        "outputId": "244b1ab9-49b9-41b2-971e-46ba0aeba063"
      },
      "outputs": [
        {
          "name": "stdout",
          "output_type": "stream",
          "text": [
            "CPU times: user 397 ms, sys: 1.5 s, total: 1.89 s\n",
            "Wall time: 15.2 s\n"
          ]
        }
      ],
      "source": [
        "%%time\n",
        "n_features = 300\n",
        "features = [f'f_{i}' for i in range(n_features)]\n",
        "feature_columns = ['investment_id', 'time_id'] + features\n",
        "train = pd.read_pickle('../input/ubiquant-market-prediction-half-precision-pickle/train.pkl')"
      ]
    },
    {
      "cell_type": "code",
      "execution_count": null,
      "id": "07a3ff5c",
      "metadata": {
        "execution": {
          "iopub.execute_input": "2022-04-18T02:38:10.171832Z",
          "iopub.status.busy": "2022-04-18T02:38:10.169210Z",
          "iopub.status.idle": "2022-04-18T02:38:10.186603Z",
          "shell.execute_reply": "2022-04-18T02:38:10.187002Z",
          "shell.execute_reply.started": "2022-04-10T03:01:43.675577Z"
        },
        "papermill": {
          "duration": 0.042551,
          "end_time": "2022-04-18T02:38:10.187130",
          "exception": false,
          "start_time": "2022-04-18T02:38:10.144579",
          "status": "completed"
        },
        "tags": [],
        "id": "07a3ff5c",
        "outputId": "c45d8e00-0098-4c9f-e5ed-e8e88a8cc72f"
      },
      "outputs": [
        {
          "data": {
            "text/plain": [
              "0    1\n",
              "1    2\n",
              "2    6\n",
              "3    7\n",
              "4    8\n",
              "Name: investment_id, dtype: uint16"
            ]
          },
          "execution_count": 3,
          "metadata": {},
          "output_type": "execute_result"
        }
      ],
      "source": [
        "investment_id = train.pop(\"investment_id\")\n",
        "investment_id.head()"
      ]
    },
    {
      "cell_type": "code",
      "execution_count": null,
      "id": "35ef383b",
      "metadata": {
        "execution": {
          "iopub.execute_input": "2022-04-18T02:38:10.230393Z",
          "iopub.status.busy": "2022-04-18T02:38:10.229635Z",
          "iopub.status.idle": "2022-04-18T02:38:10.239978Z",
          "shell.execute_reply": "2022-04-18T02:38:10.239479Z",
          "shell.execute_reply.started": "2022-04-10T03:01:43.699523Z"
        },
        "papermill": {
          "duration": 0.03674,
          "end_time": "2022-04-18T02:38:10.240088",
          "exception": false,
          "start_time": "2022-04-18T02:38:10.203348",
          "status": "completed"
        },
        "tags": [],
        "id": "35ef383b",
        "outputId": "a65a0222-b81e-4f3a-8eaa-85592dce2475"
      },
      "outputs": [
        {
          "data": {
            "text/plain": [
              "0   -0.300781\n",
              "1   -0.231079\n",
              "2    0.568848\n",
              "3   -1.064453\n",
              "4   -0.531738\n",
              "Name: target, dtype: float16"
            ]
          },
          "execution_count": 4,
          "metadata": {},
          "output_type": "execute_result"
        }
      ],
      "source": [
        "_ = train.pop(\"time_id\")\n",
        "y = train.pop(\"target\")\n",
        "y.head()"
      ]
    },
    {
      "cell_type": "code",
      "execution_count": null,
      "id": "db927489",
      "metadata": {
        "execution": {
          "iopub.execute_input": "2022-04-18T02:38:10.279714Z",
          "iopub.status.busy": "2022-04-18T02:38:10.278858Z",
          "iopub.status.idle": "2022-04-18T02:39:34.735072Z",
          "shell.execute_reply": "2022-04-18T02:39:34.735506Z",
          "shell.execute_reply.started": "2022-04-10T03:01:43.725067Z"
        },
        "papermill": {
          "duration": 84.47926,
          "end_time": "2022-04-18T02:39:34.735664",
          "exception": false,
          "start_time": "2022-04-18T02:38:10.256404",
          "status": "completed"
        },
        "tags": [],
        "id": "db927489",
        "outputId": "f0e9ad8a-ed1f-40f4-86c5-fd86cb032be1"
      },
      "outputs": [
        {
          "name": "stderr",
          "output_type": "stream",
          "text": [
            "2022-04-18 02:38:10.378806: I tensorflow/stream_executor/cuda/cuda_gpu_executor.cc:937] successful NUMA node read from SysFS had negative value (-1), but there must be at least one NUMA node, so returning NUMA node zero\n",
            "2022-04-18 02:38:10.487214: I tensorflow/stream_executor/cuda/cuda_gpu_executor.cc:937] successful NUMA node read from SysFS had negative value (-1), but there must be at least one NUMA node, so returning NUMA node zero\n",
            "2022-04-18 02:38:10.487941: I tensorflow/stream_executor/cuda/cuda_gpu_executor.cc:937] successful NUMA node read from SysFS had negative value (-1), but there must be at least one NUMA node, so returning NUMA node zero\n",
            "2022-04-18 02:38:10.489096: I tensorflow/core/platform/cpu_feature_guard.cc:142] This TensorFlow binary is optimized with oneAPI Deep Neural Network Library (oneDNN) to use the following CPU instructions in performance-critical operations:  AVX2 AVX512F FMA\n",
            "To enable them in other operations, rebuild TensorFlow with the appropriate compiler flags.\n",
            "2022-04-18 02:38:10.490205: I tensorflow/stream_executor/cuda/cuda_gpu_executor.cc:937] successful NUMA node read from SysFS had negative value (-1), but there must be at least one NUMA node, so returning NUMA node zero\n",
            "2022-04-18 02:38:10.490926: I tensorflow/stream_executor/cuda/cuda_gpu_executor.cc:937] successful NUMA node read from SysFS had negative value (-1), but there must be at least one NUMA node, so returning NUMA node zero\n",
            "2022-04-18 02:38:10.491619: I tensorflow/stream_executor/cuda/cuda_gpu_executor.cc:937] successful NUMA node read from SysFS had negative value (-1), but there must be at least one NUMA node, so returning NUMA node zero\n",
            "2022-04-18 02:38:12.293843: I tensorflow/stream_executor/cuda/cuda_gpu_executor.cc:937] successful NUMA node read from SysFS had negative value (-1), but there must be at least one NUMA node, so returning NUMA node zero\n",
            "2022-04-18 02:38:12.294683: I tensorflow/stream_executor/cuda/cuda_gpu_executor.cc:937] successful NUMA node read from SysFS had negative value (-1), but there must be at least one NUMA node, so returning NUMA node zero\n",
            "2022-04-18 02:38:12.295364: I tensorflow/stream_executor/cuda/cuda_gpu_executor.cc:937] successful NUMA node read from SysFS had negative value (-1), but there must be at least one NUMA node, so returning NUMA node zero\n",
            "2022-04-18 02:38:12.295958: I tensorflow/core/common_runtime/gpu/gpu_device.cc:1510] Created device /job:localhost/replica:0/task:0/device:GPU:0 with 15403 MB memory:  -> device: 0, name: Tesla P100-PCIE-16GB, pci bus id: 0000:00:04.0, compute capability: 6.0\n",
            "2022-04-18 02:38:12.669048: I tensorflow/compiler/mlir/mlir_graph_optimization_pass.cc:185] None of the MLIR Optimization Passes are enabled (registered 2)\n"
          ]
        },
        {
          "name": "stdout",
          "output_type": "stream",
          "text": [
            "CPU times: user 1min 10s, sys: 8.81 s, total: 1min 19s\n",
            "Wall time: 1min 24s\n"
          ]
        }
      ],
      "source": [
        "%%time\n",
        "investment_ids = list(investment_id.unique())\n",
        "investment_id_size = len(investment_ids) + 1\n",
        "investment_id_lookup_layer = layers.IntegerLookup(max_tokens=investment_id_size)\n",
        "with tf.device(\"cpu\"):\n",
        "    investment_id_lookup_layer.adapt(investment_id)"
      ]
    },
    {
      "cell_type": "code",
      "execution_count": null,
      "id": "87938712",
      "metadata": {
        "execution": {
          "iopub.execute_input": "2022-04-18T02:39:34.776576Z",
          "iopub.status.busy": "2022-04-18T02:39:34.775918Z",
          "iopub.status.idle": "2022-04-18T02:39:34.778589Z",
          "shell.execute_reply": "2022-04-18T02:39:34.778131Z",
          "shell.execute_reply.started": "2022-04-10T03:03:08.105221Z"
        },
        "papermill": {
          "duration": 0.025665,
          "end_time": "2022-04-18T02:39:34.778726",
          "exception": false,
          "start_time": "2022-04-18T02:39:34.753061",
          "status": "completed"
        },
        "tags": [],
        "id": "87938712"
      },
      "outputs": [],
      "source": [
        "def preprocess(X, y):\n",
        "    print(X)\n",
        "    print(y)\n",
        "    return X, y\n",
        "def make_dataset(feature, investment_id, y, batch_size=1024, mode=\"train\"):\n",
        "    ds = tf.data.Dataset.from_tensor_slices(((investment_id, feature), y))\n",
        "    ds = ds.map(preprocess)\n",
        "    if mode == \"train\":\n",
        "        ds = ds.shuffle(256)\n",
        "    ds = ds.batch(batch_size).cache().prefetch(tf.data.experimental.AUTOTUNE)\n",
        "    return ds"
      ]
    },
    {
      "cell_type": "code",
      "execution_count": null,
      "id": "c857785d",
      "metadata": {
        "execution": {
          "iopub.execute_input": "2022-04-18T02:39:35.007112Z",
          "iopub.status.busy": "2022-04-18T02:39:34.848217Z",
          "iopub.status.idle": "2022-04-18T02:39:35.021702Z",
          "shell.execute_reply": "2022-04-18T02:39:35.022159Z",
          "shell.execute_reply.started": "2022-04-10T03:03:08.113271Z"
        },
        "papermill": {
          "duration": 0.226368,
          "end_time": "2022-04-18T02:39:35.022321",
          "exception": false,
          "start_time": "2022-04-18T02:39:34.795953",
          "status": "completed"
        },
        "tags": [],
        "id": "c857785d",
        "outputId": "a7428425-d74b-449d-9004-3c399bbf0e58"
      },
      "outputs": [
        {
          "data": {
            "text/plain": [
              "754"
            ]
          },
          "execution_count": 7,
          "metadata": {},
          "output_type": "execute_result"
        }
      ],
      "source": [
        "def get_model():\n",
        "    investment_id_inputs = tf.keras.Input((1, ), dtype=tf.uint16)\n",
        "    features_inputs = tf.keras.Input((300, ), dtype=tf.float16)\n",
        "    \n",
        "    investment_id_x = investment_id_lookup_layer(investment_id_inputs)\n",
        "    investment_id_x = layers.Embedding(investment_id_size, 32, input_length=1)(investment_id_x)\n",
        "    investment_id_x = layers.Reshape((-1, ))(investment_id_x)\n",
        "    investment_id_x = layers.Dense(64, activation='swish')(investment_id_x)\n",
        "    investment_id_x = layers.Dense(64, activation='swish')(investment_id_x)\n",
        "    investment_id_x = layers.Dense(64, activation='swish')(investment_id_x)\n",
        "    \n",
        "    feature_x = layers.Dense(256, activation='swish')(features_inputs)\n",
        "    feature_x = layers.Dense(256, activation='swish')(feature_x)\n",
        "    feature_x = layers.Dense(256, activation='swish')(feature_x)\n",
        "    \n",
        "    x = layers.Concatenate(axis=1)([investment_id_x, feature_x])\n",
        "    x = layers.Dense(512, activation='swish', kernel_regularizer=\"l2\")(x)\n",
        "    x = layers.Dense(128, activation='swish', kernel_regularizer=\"l2\")(x)\n",
        "    x = layers.Dense(32, activation='swish', kernel_regularizer=\"l2\")(x)\n",
        "    output = layers.Dense(1)(x)\n",
        "    rmse = keras.metrics.RootMeanSquaredError(name=\"rmse\")\n",
        "    model = tf.keras.Model(inputs=[investment_id_inputs, features_inputs], outputs=[output])\n",
        "    model.compile(optimizer=tf.optimizers.Adam(0.001), loss='mse', metrics=['mse', \"mae\", \"mape\", rmse])\n",
        "    return model\n",
        "\n",
        "\n",
        "def get_model2():\n",
        "    investment_id_inputs = tf.keras.Input((1, ), dtype=tf.uint16)\n",
        "    features_inputs = tf.keras.Input((300, ), dtype=tf.float16)\n",
        "    \n",
        "    investment_id_x = investment_id_lookup_layer(investment_id_inputs)\n",
        "    investment_id_x = layers.Embedding(investment_id_size, 32, input_length=1)(investment_id_x)\n",
        "    investment_id_x = layers.Reshape((-1, ))(investment_id_x)\n",
        "    investment_id_x = layers.Dense(64, activation='swish')(investment_id_x)    \n",
        "    investment_id_x = layers.Dense(64, activation='swish')(investment_id_x)\n",
        "    investment_id_x = layers.Dense(64, activation='swish')(investment_id_x)\n",
        "    investment_id_x = layers.Dense(64, activation='swish')(investment_id_x)\n",
        "   # investment_id_x = layers.Dropout(0.65)(investment_id_x)\n",
        "   \n",
        "    \n",
        "    feature_x = layers.Dense(256, activation='swish')(features_inputs)\n",
        "    feature_x = layers.Dense(256, activation='swish')(feature_x)\n",
        "    feature_x = layers.Dense(256, activation='swish')(feature_x)\n",
        "    feature_x = layers.Dense(256, activation='swish')(feature_x)\n",
        "    feature_x = layers.Dropout(0.65)(feature_x)\n",
        "    \n",
        "    x = layers.Concatenate(axis=1)([investment_id_x, feature_x])\n",
        "    x = layers.Dense(512, activation='swish', kernel_regularizer=\"l2\")(x)\n",
        "   # x = layers.Dropout(0.2)(x)\n",
        "    x = layers.Dense(128, activation='swish', kernel_regularizer=\"l2\")(x)\n",
        "  #  x = layers.Dropout(0.4)(x)\n",
        "    x = layers.Dense(32, activation='swish', kernel_regularizer=\"l2\")(x)\n",
        "    x = layers.Dense(32, activation='swish', kernel_regularizer=\"l2\")(x)\n",
        "    x = layers.Dropout(0.75)(x)\n",
        "    output = layers.Dense(1)(x)\n",
        "    rmse = keras.metrics.RootMeanSquaredError(name=\"rmse\")\n",
        "    model = tf.keras.Model(inputs=[investment_id_inputs, features_inputs], outputs=[output])\n",
        "    model.compile(optimizer=tf.optimizers.Adam(0.001), loss='mse', metrics=['mse', \"mae\", \"mape\", rmse])\n",
        "    return model\n",
        "\n",
        "\n",
        "def get_model3():\n",
        "    investment_id_inputs = tf.keras.Input((1, ), dtype=tf.uint16)\n",
        "    features_inputs = tf.keras.Input((300, ), dtype=tf.float32)\n",
        "    \n",
        "    investment_id_x = investment_id_lookup_layer(investment_id_inputs)\n",
        "    investment_id_x = layers.Embedding(investment_id_size, 32, input_length=1)(investment_id_x)\n",
        "    investment_id_x = layers.Reshape((-1, ))(investment_id_x)\n",
        "    investment_id_x = layers.Dense(64, activation='swish')(investment_id_x)\n",
        "    investment_id_x = layers.Dropout(0.5)(investment_id_x)\n",
        "    investment_id_x = layers.Dense(32, activation='swish')(investment_id_x)\n",
        "    investment_id_x = layers.Dropout(0.5)(investment_id_x)\n",
        "    #investment_id_x = layers.Dense(64, activation='swish')(investment_id_x)\n",
        "    \n",
        "    feature_x = layers.Dense(256, activation='swish')(features_inputs)\n",
        "    feature_x = layers.Dropout(0.5)(feature_x)\n",
        "    feature_x = layers.Dense(128, activation='swish')(feature_x)\n",
        "    feature_x = layers.Dropout(0.5)(feature_x)\n",
        "    feature_x = layers.Dense(64, activation='swish')(feature_x)\n",
        "    \n",
        "    x = layers.Concatenate(axis=1)([investment_id_x, feature_x])\n",
        "    x = layers.Dropout(0.5)(x)\n",
        "    x = layers.Dense(64, activation='swish', kernel_regularizer=\"l2\")(x)\n",
        "    x = layers.Dropout(0.5)(x)\n",
        "    x = layers.Dense(32, activation='swish', kernel_regularizer=\"l2\")(x)\n",
        "    x = layers.Dropout(0.5)(x)\n",
        "    x = layers.Dense(16, activation='swish', kernel_regularizer=\"l2\")(x)\n",
        "    x = layers.Dropout(0.5)(x)\n",
        "    output = layers.Dense(1)(x)\n",
        "    output = tf.keras.layers.BatchNormalization(axis=1)(output)\n",
        "    rmse = keras.metrics.RootMeanSquaredError(name=\"rmse\")\n",
        "    model = tf.keras.Model(inputs=[investment_id_inputs, features_inputs], outputs=[output])\n",
        "    model.compile(optimizer=tf.optimizers.Adam(0.001), loss='mse', metrics=['mse', \"mae\", \"mape\", rmse])\n",
        "    return model\n",
        "\n",
        "def get_model5():\n",
        "    features_inputs = tf.keras.Input((300, ), dtype=tf.float16)\n",
        "    \n",
        "    ## feature ##\n",
        "    feature_x = layers.Dense(256, activation='swish')(features_inputs)\n",
        "    feature_x = layers.Dropout(0.1)(feature_x)\n",
        "    ## convolution 1 ##\n",
        "    feature_x = layers.Reshape((-1,1))(feature_x)\n",
        "    feature_x = layers.Conv1D(filters=16, kernel_size=4, strides=1, padding='same')(feature_x)\n",
        "    feature_x = layers.BatchNormalization()(feature_x)\n",
        "    feature_x = layers.LeakyReLU()(feature_x)\n",
        "    ## convolution 2 ##\n",
        "    feature_x = layers.Conv1D(filters=16, kernel_size=4, strides=4, padding='same')(feature_x)\n",
        "    feature_x = layers.BatchNormalization()(feature_x)\n",
        "    feature_x = layers.LeakyReLU()(feature_x)\n",
        "    ## convolution 3 ##\n",
        "    feature_x = layers.Conv1D(filters=64, kernel_size=4, strides=1, padding='same')(feature_x)\n",
        "    feature_x = layers.BatchNormalization()(feature_x)\n",
        "    feature_x = layers.LeakyReLU()(feature_x)\n",
        "    ## convolution 4 ##\n",
        "    feature_x = layers.Conv1D(filters=64, kernel_size=4, strides=4, padding='same')(feature_x)\n",
        "    feature_x = layers.BatchNormalization()(feature_x)\n",
        "    feature_x = layers.LeakyReLU()(feature_x)\n",
        "    ## convolution 5 ##\n",
        "    feature_x = layers.Conv1D(filters=64, kernel_size=4, strides=2, padding='same')(feature_x)\n",
        "    feature_x = layers.BatchNormalization()(feature_x)\n",
        "    feature_x = layers.LeakyReLU()(feature_x)\n",
        "    ## flatten ##\n",
        "    feature_x = layers.Flatten()(feature_x)\n",
        "    \n",
        "    x = layers.Dense(512, activation='swish', kernel_regularizer=\"l2\")(feature_x)\n",
        "    \n",
        "    x = layers.Dropout(0.1)(x)\n",
        "    x = layers.Dense(128, activation='swish', kernel_regularizer=\"l2\")(x)\n",
        "    x = layers.Dropout(0.1)(x)\n",
        "    x = layers.Dense(32, activation='swish', kernel_regularizer=\"l2\")(x)\n",
        "    x = layers.Dropout(0.1)(x)\n",
        "    output = layers.Dense(1)(x)\n",
        "    rmse = keras.metrics.RootMeanSquaredError(name=\"rmse\")\n",
        "    model = tf.keras.Model(inputs=[features_inputs], outputs=[output])\n",
        "    model.compile(optimizer=tf.optimizers.Adam(0.001), loss='mse', metrics=['mse', \"mae\", \"mape\", rmse])\n",
        "    return model\n",
        "\n",
        "\n",
        "del train\n",
        "del investment_id\n",
        "del y\n",
        "gc.collect()"
      ]
    },
    {
      "cell_type": "markdown",
      "id": "3b6ccf1b",
      "metadata": {
        "papermill": {
          "duration": 0.017346,
          "end_time": "2022-04-18T02:39:35.057454",
          "exception": false,
          "start_time": "2022-04-18T02:39:35.040108",
          "status": "completed"
        },
        "tags": [],
        "id": "3b6ccf1b"
      },
      "source": [
        "## ADD MODEL"
      ]
    },
    {
      "cell_type": "code",
      "execution_count": null,
      "id": "23909ad8",
      "metadata": {
        "execution": {
          "iopub.execute_input": "2022-04-18T02:39:35.105847Z",
          "iopub.status.busy": "2022-04-18T02:39:35.101062Z",
          "iopub.status.idle": "2022-04-18T02:39:35.120147Z",
          "shell.execute_reply": "2022-04-18T02:39:35.119675Z",
          "shell.execute_reply.started": "2022-04-10T03:03:08.323673Z"
        },
        "papermill": {
          "duration": 0.045064,
          "end_time": "2022-04-18T02:39:35.120267",
          "exception": false,
          "start_time": "2022-04-18T02:39:35.075203",
          "status": "completed"
        },
        "tags": [],
        "id": "23909ad8"
      },
      "outputs": [],
      "source": [
        "def get_model6():\n",
        "    features_inputs = tf.keras.Input((300, ), dtype=tf.float16)\n",
        "    \n",
        "    features_x = layers.GaussianNoise(0.1)(features_inputs)\n",
        "    ## feature ##\n",
        "    feature_x = layers.Dense(256, activation='swish')(features_x)\n",
        "    feature_x = layers.Dropout(0.1)(feature_x)\n",
        "    ## convolution 1 ##\n",
        "    feature_x = layers.Reshape((-1,1))(feature_x)\n",
        "    feature_x = layers.Conv1D(filters=16, kernel_size=4, strides=1, padding='same')(feature_x)\n",
        "    feature_x = layers.BatchNormalization()(feature_x)\n",
        "    feature_x = layers.LeakyReLU()(feature_x)\n",
        "    ## convolution 2 ##\n",
        "    feature_x = layers.Conv1D(filters=16, kernel_size=4, strides=4, padding='same')(feature_x)\n",
        "    feature_x = layers.BatchNormalization()(feature_x)\n",
        "    feature_x = layers.LeakyReLU()(feature_x)\n",
        "    ## convolution 3 ##\n",
        "    feature_x = layers.Conv1D(filters=64, kernel_size=4, strides=1, padding='same')(feature_x)\n",
        "    feature_x = layers.BatchNormalization()(feature_x)\n",
        "    feature_x = layers.LeakyReLU()(feature_x)\n",
        "    ## convolution 4 ##\n",
        "    feature_x = layers.Conv1D(filters=64, kernel_size=4, strides=4, padding='same')(feature_x)\n",
        "    feature_x = layers.BatchNormalization()(feature_x)\n",
        "    feature_x = layers.LeakyReLU()(feature_x)\n",
        "    ## convolution 5 ##\n",
        "    feature_x = layers.Conv1D(filters=64, kernel_size=4, strides=2, padding='same')(feature_x)\n",
        "    feature_x = layers.BatchNormalization()(feature_x)\n",
        "    feature_x = layers.LeakyReLU()(feature_x)\n",
        "    ## flatten ##\n",
        "    feature_x = layers.Flatten()(feature_x)\n",
        " \n",
        "    x = layers.Dense(512, activation='swish', kernel_regularizer=\"l2\")(feature_x)\n",
        "    \n",
        "    x = layers.Dropout(0.1)(x)\n",
        "    x = layers.Dense(128, activation='swish', kernel_regularizer=\"l2\")(x)\n",
        "    x = layers.Dropout(0.1)(x)\n",
        "    x = layers.Dense(32, activation='swish', kernel_regularizer=\"l2\")(x)\n",
        "    x = layers.Dropout(0.1)(x)\n",
        "    output = layers.Dense(1)(x)\n",
        "    rmse = keras.metrics.RootMeanSquaredError(name=\"rmse\")\n",
        "    model = tf.keras.Model(inputs=[features_inputs], outputs=[output])\n",
        "    model.compile(optimizer=tf.optimizers.Adam(0.001), loss='mse', metrics=['mse', \"mae\", \"mape\", rmse])\n",
        "    return model\n",
        "\n",
        "def get_model7():\n",
        "    features_inputs = tf.keras.Input((300, ), dtype=tf.float16)\n",
        "    \n",
        "    ## Dense 1 ##\n",
        "    feature_x = layers.Dense(256, activation='swish')(features_inputs)\n",
        "    feature_x = layers.Dropout(0.1)(feature_x)\n",
        "    ## convolution 1 ##\n",
        "    feature_x = layers.Reshape((-1,1))(feature_x)\n",
        "    feature_x = layers.Conv1D(filters=16, kernel_size=4, strides=1, padding='same')(feature_x)\n",
        "    feature_x = layers.BatchNormalization()(feature_x)\n",
        "    feature_x = layers.LeakyReLU()(feature_x)\n",
        "    ## convolution 2 ##\n",
        "    feature_x = layers.Conv1D(filters=16, kernel_size=4, strides=4, padding='same')(feature_x)\n",
        "    feature_x = layers.BatchNormalization()(feature_x)\n",
        "    feature_x = layers.LeakyReLU()(feature_x)\n",
        "    ## convolution 3 ##\n",
        "    feature_x = layers.Conv1D(filters=64, kernel_size=4, strides=1, padding='same')(feature_x)\n",
        "    feature_x = layers.BatchNormalization()(feature_x)\n",
        "    feature_x = layers.LeakyReLU()(feature_x)\n",
        "\n",
        "    ## convolution2D 1 ##\n",
        "    feature_x = layers.Reshape((64,64,1))(feature_x)\n",
        "    feature_x = layers.Conv2D(filters=32, kernel_size=4, strides=1, padding='same')(feature_x)\n",
        "    feature_x = layers.BatchNormalization()(feature_x)\n",
        "    feature_x = layers.LeakyReLU()(feature_x)\n",
        "    ## convolution2D 2 ##\n",
        "    feature_x = layers.Conv2D(filters=32, kernel_size=4, strides=4, padding='same')(feature_x)\n",
        "    feature_x = layers.BatchNormalization()(feature_x)\n",
        "    feature_x = layers.LeakyReLU()(feature_x)\n",
        "    ## convolution2D 3 ##\n",
        "    feature_x = layers.Conv2D(filters=32, kernel_size=4, strides=4, padding='same')(feature_x)\n",
        "    feature_x = layers.BatchNormalization()(feature_x)\n",
        "    feature_x = layers.LeakyReLU()(feature_x)\n",
        "\n",
        "    ## flatten ##\n",
        "    feature_x = layers.Flatten()(feature_x)\n",
        "    ## Dense 3 ##\n",
        "    x = layers.Dense(512, activation='swish', kernel_regularizer=\"l2\")(feature_x)\n",
        "    ## Dense 4 ##\n",
        "    x = layers.Dropout(0.1)(x)\n",
        "    ## Dense 5 ##    \n",
        "    x = layers.Dense(128, activation='swish', kernel_regularizer=\"l2\")(x)\n",
        "    x = layers.Dropout(0.1)(x)\n",
        "    ## Dense 6 ##\n",
        "    x = layers.Dense(32, activation='swish', kernel_regularizer=\"l2\")(x)\n",
        "    x = layers.Dropout(0.1)(x)\n",
        "    ## Dense 7 ##\n",
        "    output = layers.Dense(1)(x)\n",
        "    rmse = keras.metrics.RootMeanSquaredError(name=\"rmse\")\n",
        "    model = tf.keras.Model(inputs=[features_inputs], outputs=[output])\n",
        "    model.compile(optimizer=tf.optimizers.Adam(0.001), loss='mse', metrics=['mse', \"mae\", \"mape\", rmse])\n",
        "    return model\n"
      ]
    },
    {
      "cell_type": "code",
      "execution_count": null,
      "id": "3fe7df2f",
      "metadata": {
        "execution": {
          "iopub.execute_input": "2022-04-18T02:39:35.166333Z",
          "iopub.status.busy": "2022-04-18T02:39:35.165537Z",
          "iopub.status.idle": "2022-04-18T02:39:48.735830Z",
          "shell.execute_reply": "2022-04-18T02:39:48.735351Z",
          "shell.execute_reply.started": "2022-04-10T03:03:08.35141Z"
        },
        "papermill": {
          "duration": 13.598361,
          "end_time": "2022-04-18T02:39:48.735959",
          "exception": false,
          "start_time": "2022-04-18T02:39:35.137598",
          "status": "completed"
        },
        "tags": [],
        "id": "3fe7df2f",
        "outputId": "3002dccb-366b-4f81-9030-cf07f499c905"
      },
      "outputs": [
        {
          "name": "stderr",
          "output_type": "stream",
          "text": [
            "2022-04-18 02:39:35.294403: W tensorflow/core/util/tensor_slice_reader.cc:95] Could not open ../input/dnn-base/model_0: Data loss: file is too short to be an sstable: perhaps your file is in a different file format and you need to use a different restore operator?\n",
            "2022-04-18 02:39:35.609306: W tensorflow/core/util/tensor_slice_reader.cc:95] Could not open ../input/dnn-base/model_1: Data loss: file is too short to be an sstable: perhaps your file is in a different file format and you need to use a different restore operator?\n",
            "2022-04-18 02:39:35.907314: W tensorflow/core/util/tensor_slice_reader.cc:95] Could not open ../input/dnn-base/model_2: Data loss: file is too short to be an sstable: perhaps your file is in a different file format and you need to use a different restore operator?\n",
            "2022-04-18 02:39:36.224185: W tensorflow/core/util/tensor_slice_reader.cc:95] Could not open ../input/dnn-base/model_3: Data loss: file is too short to be an sstable: perhaps your file is in a different file format and you need to use a different restore operator?\n",
            "2022-04-18 02:39:36.481950: W tensorflow/core/util/tensor_slice_reader.cc:95] Could not open ../input/dnn-base/model_4: Data loss: file is too short to be an sstable: perhaps your file is in a different file format and you need to use a different restore operator?\n",
            "2022-04-18 02:39:36.792888: W tensorflow/core/util/tensor_slice_reader.cc:95] Could not open ../input/train-dnn-v2-10fold/model_0: Data loss: file is too short to be an sstable: perhaps your file is in a different file format and you need to use a different restore operator?\n",
            "2022-04-18 02:39:37.153895: W tensorflow/core/util/tensor_slice_reader.cc:95] Could not open ../input/train-dnn-v2-10fold/model_1: Data loss: file is too short to be an sstable: perhaps your file is in a different file format and you need to use a different restore operator?\n",
            "2022-04-18 02:39:37.529305: W tensorflow/core/util/tensor_slice_reader.cc:95] Could not open ../input/train-dnn-v2-10fold/model_2: Data loss: file is too short to be an sstable: perhaps your file is in a different file format and you need to use a different restore operator?\n",
            "2022-04-18 02:39:37.843564: W tensorflow/core/util/tensor_slice_reader.cc:95] Could not open ../input/train-dnn-v2-10fold/model_3: Data loss: file is too short to be an sstable: perhaps your file is in a different file format and you need to use a different restore operator?\n",
            "2022-04-18 02:39:38.154238: W tensorflow/core/util/tensor_slice_reader.cc:95] Could not open ../input/train-dnn-v2-10fold/model_4: Data loss: file is too short to be an sstable: perhaps your file is in a different file format and you need to use a different restore operator?\n",
            "2022-04-18 02:39:38.488597: W tensorflow/core/util/tensor_slice_reader.cc:95] Could not open ../input/train-dnn-v2-10fold/model_5: Data loss: file is too short to be an sstable: perhaps your file is in a different file format and you need to use a different restore operator?\n",
            "2022-04-18 02:39:38.824936: W tensorflow/core/util/tensor_slice_reader.cc:95] Could not open ../input/train-dnn-v2-10fold/model_6: Data loss: file is too short to be an sstable: perhaps your file is in a different file format and you need to use a different restore operator?\n",
            "2022-04-18 02:39:39.160885: W tensorflow/core/util/tensor_slice_reader.cc:95] Could not open ../input/train-dnn-v2-10fold/model_7: Data loss: file is too short to be an sstable: perhaps your file is in a different file format and you need to use a different restore operator?\n",
            "2022-04-18 02:39:39.498493: W tensorflow/core/util/tensor_slice_reader.cc:95] Could not open ../input/train-dnn-v2-10fold/model_8: Data loss: file is too short to be an sstable: perhaps your file is in a different file format and you need to use a different restore operator?\n",
            "2022-04-18 02:39:39.845793: W tensorflow/core/util/tensor_slice_reader.cc:95] Could not open ../input/train-dnn-v2-10fold/model_9: Data loss: file is too short to be an sstable: perhaps your file is in a different file format and you need to use a different restore operator?\n",
            "2022-04-18 02:39:40.169679: W tensorflow/core/util/tensor_slice_reader.cc:95] Could not open ../input/dnnmodelnew/model_0: Data loss: file is too short to be an sstable: perhaps your file is in a different file format and you need to use a different restore operator?\n",
            "2022-04-18 02:39:40.414745: W tensorflow/core/util/tensor_slice_reader.cc:95] Could not open ../input/dnnmodelnew/model_1: Data loss: file is too short to be an sstable: perhaps your file is in a different file format and you need to use a different restore operator?\n",
            "2022-04-18 02:39:40.659273: W tensorflow/core/util/tensor_slice_reader.cc:95] Could not open ../input/dnnmodelnew/model_2: Data loss: file is too short to be an sstable: perhaps your file is in a different file format and you need to use a different restore operator?\n",
            "2022-04-18 02:39:40.902422: W tensorflow/core/util/tensor_slice_reader.cc:95] Could not open ../input/dnnmodelnew/model_3: Data loss: file is too short to be an sstable: perhaps your file is in a different file format and you need to use a different restore operator?\n",
            "2022-04-18 02:39:41.144148: W tensorflow/core/util/tensor_slice_reader.cc:95] Could not open ../input/dnnmodelnew/model_4: Data loss: file is too short to be an sstable: perhaps your file is in a different file format and you need to use a different restore operator?\n",
            "2022-04-18 02:39:41.387105: W tensorflow/core/util/tensor_slice_reader.cc:95] Could not open ../input/dnnmodelnew/model_5: Data loss: file is too short to be an sstable: perhaps your file is in a different file format and you need to use a different restore operator?\n",
            "2022-04-18 02:39:41.958718: W tensorflow/core/util/tensor_slice_reader.cc:95] Could not open ../input/dnnmodelnew/model_6: Data loss: file is too short to be an sstable: perhaps your file is in a different file format and you need to use a different restore operator?\n",
            "2022-04-18 02:39:42.271789: W tensorflow/core/util/tensor_slice_reader.cc:95] Could not open ../input/dnnmodelnew/model_7: Data loss: file is too short to be an sstable: perhaps your file is in a different file format and you need to use a different restore operator?\n",
            "2022-04-18 02:39:42.554143: W tensorflow/core/util/tensor_slice_reader.cc:95] Could not open ../input/dnnmodelnew/model_8: Data loss: file is too short to be an sstable: perhaps your file is in a different file format and you need to use a different restore operator?\n",
            "2022-04-18 02:39:42.812856: W tensorflow/core/util/tensor_slice_reader.cc:95] Could not open ../input/dnnmodelnew/model_9: Data loss: file is too short to be an sstable: perhaps your file is in a different file format and you need to use a different restore operator?\n"
          ]
        }
      ],
      "source": [
        "models = []\n",
        "\n",
        "for i in range(5):\n",
        "    model = get_model()\n",
        "    model.load_weights(f'../input/dnn-base/model_{i}')\n",
        "    models.append(model)\n",
        "\n",
        "for i in range(10):\n",
        "    model = get_model2()\n",
        "    model.load_weights(f'../input/train-dnn-v2-10fold/model_{i}')\n",
        "    models.append(model)\n",
        "    \n",
        "    \n",
        "for i in range(10):\n",
        "    model = get_model3()\n",
        "    model.load_weights(f'../input/dnnmodelnew/model_{i}')\n",
        "    models.append(model)\n",
        "    \n",
        "models2 = []\n",
        "    \n",
        "for i in range(5):\n",
        "    model = get_model5()\n",
        "    model.load_weights(f'../input/prediction-including-spatial-info-with-conv1d/model_{i}.tf')\n",
        "    #model.load_weights(f'../input/ump-conv-del-idx-outputs/model_{i}.tf')\n",
        "    models2.append(model)\n",
        "    \n",
        "for i in range(5):\n",
        "    model = get_model6()\n",
        "    model.load_weights(f'../input/ump-conv1d-with-gaussian-noise-train/model_{i}.tf')\n",
        "    models2.append(model)\n",
        "\n",
        "for i in range(5):\n",
        "    model = get_model7()\n",
        "    model.load_weights(f'../input/Conv2d/model_{i}.tf')\n",
        "    models2.append(model)"
      ]
    },
    {
      "cell_type": "code",
      "execution_count": null,
      "id": "0b9e9141",
      "metadata": {
        "execution": {
          "iopub.execute_input": "2022-04-18T02:39:49.025704Z",
          "iopub.status.busy": "2022-04-18T02:39:49.024627Z",
          "iopub.status.idle": "2022-04-18T02:39:49.032070Z",
          "shell.execute_reply": "2022-04-18T02:39:49.031454Z",
          "shell.execute_reply.started": "2022-04-10T03:03:22.079065Z"
        },
        "papermill": {
          "duration": 0.270639,
          "end_time": "2022-04-18T02:39:49.032228",
          "exception": false,
          "start_time": "2022-04-18T02:39:48.761589",
          "status": "completed"
        },
        "tags": [],
        "id": "0b9e9141",
        "outputId": "f39bd29b-d9cf-4587-b96f-7a5eb167a91b"
      },
      "outputs": [
        {
          "name": "stdout",
          "output_type": "stream",
          "text": [
            "Name: /physical_device:GPU:0   Type: GPU\n"
          ]
        }
      ],
      "source": [
        "def get_model_dr04():\n",
        "    features_inputs = tf.keras.Input((300, ), dtype=tf.float32)\n",
        "    \n",
        "    feature_x = layers.Dense(256, activation='swish')(features_inputs)\n",
        "    feature_x = layers.Dropout(0.4)(feature_x)\n",
        "    feature_x = layers.Dense(128, activation='swish')(feature_x)\n",
        "    feature_x = layers.Dropout(0.4)(feature_x)\n",
        "    feature_x = layers.Dense(64, activation='swish')(feature_x)\n",
        "    \n",
        "    x = layers.Concatenate(axis=1)([feature_x])\n",
        "    x = layers.Dropout(0.4)(x)\n",
        "    x = layers.Dense(64, activation='swish', kernel_regularizer=\"l2\")(x)\n",
        "    x = layers.Dropout(0.4)(x)\n",
        "    x = layers.Dense(32, activation='swish', kernel_regularizer=\"l2\")(x)\n",
        "    x = layers.Dropout(0.4)(x)\n",
        "    x = layers.Dense(16, activation='swish', kernel_regularizer=\"l2\")(x)\n",
        "    x = layers.Dropout(0.4)(x)\n",
        "    output = layers.Dense(1)(x)\n",
        "    output = tf.keras.layers.BatchNormalization(axis=1)(output)\n",
        "    rmse = keras.metrics.RootMeanSquaredError(name=\"rmse\")\n",
        "    model = tf.keras.Model(inputs=[features_inputs], outputs=[output])\n",
        "    model.compile(optimizer=tf.optimizers.Adam(0.001),  loss = correlationLoss, metrics=[correlationMetric])\n",
        "    return model\n",
        "\n",
        "dr=0.3\n",
        "\n",
        "gpus = tf.config.experimental.list_physical_devices('GPU')\n",
        "for gpu in gpus:\n",
        "    print(\"Name:\", gpu.name, \"  Type:\", gpu.device_type)\n",
        "\n",
        "n_features = 300\n",
        "features = [f'f_{i}' for i in range(n_features)]\n",
        "\n",
        "def preprocess(X, y):\n",
        "    return X, y\n",
        "def make_dataset(feature, y, batch_size=1024, mode=\"train\"):\n",
        "    ds = tf.data.Dataset.from_tensor_slices((feature, y))\n",
        "    ds = ds.map(preprocess)\n",
        "    if mode == \"train\":\n",
        "        ds = ds.shuffle(512)\n",
        "#     ds = ds.batch(batch_size).cache().prefetch(tf.data.experimental.AUTOTUNE)\n",
        "    ds = ds.batch(batch_size).prefetch(tf.data.experimental.AUTOTUNE)\n",
        "    return ds\n",
        "\n",
        "def correlationMetric(x, y, axis=-2):\n",
        "  \"\"\"Metric returning the Pearson correlation coefficient of two tensors over some axis, default -2.\"\"\"\n",
        "  x = tf.convert_to_tensor(x)\n",
        "  y = math_ops.cast(y, x.dtype)\n",
        "  n = tf.cast(tf.shape(x)[axis], x.dtype)\n",
        "  xsum = tf.reduce_sum(x, axis=axis)\n",
        "  ysum = tf.reduce_sum(y, axis=axis)\n",
        "  xmean = xsum / n\n",
        "  ymean = ysum / n\n",
        "  xvar = tf.reduce_sum( tf.math.squared_difference(x, xmean), axis=axis)\n",
        "  yvar = tf.reduce_sum( tf.math.squared_difference(y, ymean), axis=axis)\n",
        "  cov = tf.reduce_sum( (x - xmean) * (y - ymean), axis=axis)\n",
        "  corr = cov / tf.sqrt(xvar * yvar)\n",
        "  return tf.constant(1.0, dtype=x.dtype) - corr\n",
        "\n",
        "\n",
        "def correlationLoss(x,y, axis=-2):\n",
        "  \"\"\"Loss function that maximizes the pearson correlation coefficient between the predicted values and the labels,\n",
        "  while trying to have the same mean and variance\"\"\"\n",
        "  x = tf.convert_to_tensor(x)\n",
        "  y = math_ops.cast(y, x.dtype)\n",
        "  n = tf.cast(tf.shape(x)[axis], x.dtype)\n",
        "  xsum = tf.reduce_sum(x, axis=axis)\n",
        "  ysum = tf.reduce_sum(y, axis=axis)\n",
        "  xmean = xsum / n\n",
        "  ymean = ysum / n\n",
        "  xsqsum = tf.reduce_sum( tf.math.squared_difference(x, xmean), axis=axis)\n",
        "  ysqsum = tf.reduce_sum( tf.math.squared_difference(y, ymean), axis=axis)\n",
        "  cov = tf.reduce_sum( (x - xmean) * (y - ymean), axis=axis)\n",
        "  corr = cov / tf.sqrt(xsqsum * ysqsum)\n",
        "  return tf.convert_to_tensor( K.mean(tf.constant(1.0, dtype=x.dtype) - corr ) , dtype=tf.float32 )\n",
        "\n",
        "def correlationMetric_01mse(x, y, axis=-2):\n",
        "  \"\"\"Metric returning the Pearson correlation coefficient of two tensors over some axis, default -2.\"\"\"\n",
        "  x = tf.convert_to_tensor(x)\n",
        "  y = math_ops.cast(y, x.dtype)\n",
        "  n = tf.cast(tf.shape(x)[axis], x.dtype)\n",
        "  xsum = tf.reduce_sum(x, axis=axis)\n",
        "  ysum = tf.reduce_sum(y, axis=axis)\n",
        "  xmean = xsum / n\n",
        "  ymean = ysum / n\n",
        "  xvar = tf.reduce_sum( tf.math.squared_difference(x, xmean), axis=axis)\n",
        "  yvar = tf.reduce_sum( tf.math.squared_difference(y, ymean), axis=axis)\n",
        "  cov = tf.reduce_sum( (x - xmean) * (y - ymean), axis=axis)\n",
        "  corr = cov / tf.sqrt(xvar * yvar)\n",
        "  return tf.constant(1.0, dtype=x.dtype) - corr\n",
        "\n",
        "gc.collect()\n",
        "\n",
        "# list(GroupKFold(5).split(train , groups = train.index))[0]\n",
        "def pearson_coef(data):\n",
        "    return data.corr()['target']['preds']\n",
        "\n",
        "def evaluate_metric(valid_df):\n",
        "    return np.mean(valid_df[['time_id_', 'target', 'preds']].groupby('time_id').apply(pearson_coef))\n",
        "\n"
      ]
    },
    {
      "cell_type": "code",
      "execution_count": null,
      "id": "2003885d",
      "metadata": {
        "execution": {
          "iopub.execute_input": "2022-04-18T02:39:49.096442Z",
          "iopub.status.busy": "2022-04-18T02:39:49.087248Z",
          "iopub.status.idle": "2022-04-18T02:39:49.117393Z",
          "shell.execute_reply": "2022-04-18T02:39:49.116914Z",
          "shell.execute_reply.started": "2022-04-10T03:03:22.334558Z"
        },
        "papermill": {
          "duration": 0.059312,
          "end_time": "2022-04-18T02:39:49.117560",
          "exception": false,
          "start_time": "2022-04-18T02:39:49.058248",
          "status": "completed"
        },
        "tags": [],
        "id": "2003885d"
      },
      "outputs": [],
      "source": [
        "def preprocess_test(investment_id, feature):\n",
        "    return (investment_id, feature), 0\n",
        "\n",
        "def preprocess_test_s(feature):\n",
        "    return (feature), 0\n",
        "\n",
        "def make_test_dataset(feature, investment_id, batch_size=1024):\n",
        "    ds = tf.data.Dataset.from_tensor_slices(((investment_id, feature)))\n",
        "    ds = ds.map(preprocess_test)\n",
        "    ds = ds.batch(batch_size).cache().prefetch(tf.data.experimental.AUTOTUNE)\n",
        "    return ds\n",
        "\n",
        "def make_test_dataset2(feature, batch_size=1024):\n",
        "    ds = tf.data.Dataset.from_tensor_slices(((feature)))\n",
        "    ds = ds.batch(batch_size).cache().prefetch(tf.data.AUTOTUNE)\n",
        "    return ds\n",
        "\n",
        "def inference(models, ds):\n",
        "    y_preds = []\n",
        "    for model in models:\n",
        "        y_pred = model.predict(ds)\n",
        "        y_preds.append(y_pred)\n",
        "    return np.mean(y_preds, axis=0)\n",
        "\n",
        "from sklearn.decomposition import PCA\n",
        "pca = PCA(n_components=1)\n",
        "\n",
        "\n",
        "def make_test_dataset3(feature, batch_size=1024):\n",
        "    ds = tf.data.Dataset.from_tensor_slices((feature))\n",
        "    ds = ds.map(preprocess_test_s)\n",
        "    ds = ds.batch(batch_size).cache().prefetch(tf.data.experimental.AUTOTUNE)\n",
        "    return ds\n",
        "\n",
        "def infer(models, ds):\n",
        "    y_preds = []\n",
        "    for model in models:\n",
        "        y_pred = model.predict(ds)\n",
        "        y_preds.append((y_pred-y_pred.mean())/y_pred.std())\n",
        "    \n",
        "    return np.mean(y_preds, axis=0)"
      ]
    },
    {
      "cell_type": "code",
      "execution_count": null,
      "id": "38aebc99",
      "metadata": {
        "execution": {
          "iopub.execute_input": "2022-04-18T02:39:49.173611Z",
          "iopub.status.busy": "2022-04-18T02:39:49.172036Z",
          "iopub.status.idle": "2022-04-18T02:40:01.901682Z",
          "shell.execute_reply": "2022-04-18T02:40:01.902063Z",
          "shell.execute_reply.started": "2022-04-10T03:03:22.364952Z"
        },
        "papermill": {
          "duration": 12.75924,
          "end_time": "2022-04-18T02:40:01.902213",
          "exception": false,
          "start_time": "2022-04-18T02:39:49.142973",
          "status": "completed"
        },
        "tags": [],
        "id": "38aebc99",
        "outputId": "6651e120-0931-4d76-c345-8b800baa1f9b"
      },
      "outputs": [
        {
          "name": "stdout",
          "output_type": "stream",
          "text": [
            "This version of the API is not optimized and should not be used to estimate the runtime of your code on the hidden test set.\n"
          ]
        },
        {
          "name": "stderr",
          "output_type": "stream",
          "text": [
            "2022-04-18 02:39:54.093098: I tensorflow/stream_executor/cuda/cuda_dnn.cc:369] Loaded cuDNN version 8005\n"
          ]
        },
        {
          "data": {
            "text/html": [
              "<div>\n",
              "<style scoped>\n",
              "    .dataframe tbody tr th:only-of-type {\n",
              "        vertical-align: middle;\n",
              "    }\n",
              "\n",
              "    .dataframe tbody tr th {\n",
              "        vertical-align: top;\n",
              "    }\n",
              "\n",
              "    .dataframe thead th {\n",
              "        text-align: right;\n",
              "    }\n",
              "</style>\n",
              "<table border=\"1\" class=\"dataframe\">\n",
              "  <thead>\n",
              "    <tr style=\"text-align: right;\">\n",
              "      <th></th>\n",
              "      <th>row_id</th>\n",
              "      <th>target</th>\n",
              "    </tr>\n",
              "  </thead>\n",
              "  <tbody>\n",
              "    <tr>\n",
              "      <th>0</th>\n",
              "      <td>1220_1</td>\n",
              "      <td>-0.078893</td>\n",
              "    </tr>\n",
              "    <tr>\n",
              "      <th>1</th>\n",
              "      <td>1220_2</td>\n",
              "      <td>-0.128998</td>\n",
              "    </tr>\n",
              "  </tbody>\n",
              "</table>\n",
              "</div>"
            ],
            "text/plain": [
              "   row_id    target\n",
              "0  1220_1 -0.078893\n",
              "1  1220_2 -0.128998"
            ]
          },
          "metadata": {},
          "output_type": "display_data"
        },
        {
          "data": {
            "text/html": [
              "<div>\n",
              "<style scoped>\n",
              "    .dataframe tbody tr th:only-of-type {\n",
              "        vertical-align: middle;\n",
              "    }\n",
              "\n",
              "    .dataframe tbody tr th {\n",
              "        vertical-align: top;\n",
              "    }\n",
              "\n",
              "    .dataframe thead th {\n",
              "        text-align: right;\n",
              "    }\n",
              "</style>\n",
              "<table border=\"1\" class=\"dataframe\">\n",
              "  <thead>\n",
              "    <tr style=\"text-align: right;\">\n",
              "      <th></th>\n",
              "      <th>row_id</th>\n",
              "      <th>target</th>\n",
              "    </tr>\n",
              "  </thead>\n",
              "  <tbody>\n",
              "    <tr>\n",
              "      <th>0</th>\n",
              "      <td>1221_0</td>\n",
              "      <td>-0.162407</td>\n",
              "    </tr>\n",
              "    <tr>\n",
              "      <th>1</th>\n",
              "      <td>1221_1</td>\n",
              "      <td>-0.173895</td>\n",
              "    </tr>\n",
              "    <tr>\n",
              "      <th>2</th>\n",
              "      <td>1221_2</td>\n",
              "      <td>-0.107703</td>\n",
              "    </tr>\n",
              "  </tbody>\n",
              "</table>\n",
              "</div>"
            ],
            "text/plain": [
              "   row_id    target\n",
              "0  1221_0 -0.162407\n",
              "1  1221_1 -0.173895\n",
              "2  1221_2 -0.107703"
            ]
          },
          "metadata": {},
          "output_type": "display_data"
        },
        {
          "data": {
            "text/html": [
              "<div>\n",
              "<style scoped>\n",
              "    .dataframe tbody tr th:only-of-type {\n",
              "        vertical-align: middle;\n",
              "    }\n",
              "\n",
              "    .dataframe tbody tr th {\n",
              "        vertical-align: top;\n",
              "    }\n",
              "\n",
              "    .dataframe thead th {\n",
              "        text-align: right;\n",
              "    }\n",
              "</style>\n",
              "<table border=\"1\" class=\"dataframe\">\n",
              "  <thead>\n",
              "    <tr style=\"text-align: right;\">\n",
              "      <th></th>\n",
              "      <th>row_id</th>\n",
              "      <th>target</th>\n",
              "    </tr>\n",
              "  </thead>\n",
              "  <tbody>\n",
              "    <tr>\n",
              "      <th>0</th>\n",
              "      <td>1222_0</td>\n",
              "      <td>-0.165026</td>\n",
              "    </tr>\n",
              "    <tr>\n",
              "      <th>1</th>\n",
              "      <td>1222_1</td>\n",
              "      <td>-0.113136</td>\n",
              "    </tr>\n",
              "    <tr>\n",
              "      <th>2</th>\n",
              "      <td>1222_2</td>\n",
              "      <td>-0.104380</td>\n",
              "    </tr>\n",
              "  </tbody>\n",
              "</table>\n",
              "</div>"
            ],
            "text/plain": [
              "   row_id    target\n",
              "0  1222_0 -0.165026\n",
              "1  1222_1 -0.113136\n",
              "2  1222_2 -0.104380"
            ]
          },
          "metadata": {},
          "output_type": "display_data"
        },
        {
          "data": {
            "text/html": [
              "<div>\n",
              "<style scoped>\n",
              "    .dataframe tbody tr th:only-of-type {\n",
              "        vertical-align: middle;\n",
              "    }\n",
              "\n",
              "    .dataframe tbody tr th {\n",
              "        vertical-align: top;\n",
              "    }\n",
              "\n",
              "    .dataframe thead th {\n",
              "        text-align: right;\n",
              "    }\n",
              "</style>\n",
              "<table border=\"1\" class=\"dataframe\">\n",
              "  <thead>\n",
              "    <tr style=\"text-align: right;\">\n",
              "      <th></th>\n",
              "      <th>row_id</th>\n",
              "      <th>target</th>\n",
              "    </tr>\n",
              "  </thead>\n",
              "  <tbody>\n",
              "    <tr>\n",
              "      <th>0</th>\n",
              "      <td>1223_0</td>\n",
              "      <td>-0.125171</td>\n",
              "    </tr>\n",
              "  </tbody>\n",
              "</table>\n",
              "</div>"
            ],
            "text/plain": [
              "   row_id    target\n",
              "0  1223_0 -0.125171"
            ]
          },
          "metadata": {},
          "output_type": "display_data"
        }
      ],
      "source": [
        "import ubiquant\n",
        "env = ubiquant.make_env()\n",
        "iter_test = env.iter_test() \n",
        "for (test_df, sample_prediction_df) in iter_test:\n",
        "    ds = make_test_dataset(test_df[features], test_df[\"investment_id\"])\n",
        "    p1 = inference(models, ds)\n",
        "    ds2 = make_test_dataset2(test_df[features])\n",
        "    p2 = inference(models2, ds2)\n",
        "    sample_prediction_df['target'] = p1 * 0.2 + p2 * 0.8\n",
        "    env.predict(sample_prediction_df) \n",
        "    display(sample_prediction_df)"
      ]
    },
    {
      "cell_type": "markdown",
      "id": "641fe451",
      "metadata": {
        "papermill": {
          "duration": 0.027927,
          "end_time": "2022-04-18T02:40:01.958669",
          "exception": false,
          "start_time": "2022-04-18T02:40:01.930742",
          "status": "completed"
        },
        "tags": [],
        "id": "641fe451"
      },
      "source": [
        "."
      ]
    }
  ],
  "metadata": {
    "kernelspec": {
      "display_name": "Python 3",
      "language": "python",
      "name": "python3"
    },
    "language_info": {
      "codemirror_mode": {
        "name": "ipython",
        "version": 3
      },
      "file_extension": ".py",
      "mimetype": "text/x-python",
      "name": "python",
      "nbconvert_exporter": "python",
      "pygments_lexer": "ipython3",
      "version": "3.7.12"
    },
    "papermill": {
      "default_parameters": {},
      "duration": 144.506732,
      "end_time": "2022-04-18T02:40:04.987778",
      "environment_variables": {},
      "exception": null,
      "input_path": "__notebook__.ipynb",
      "output_path": "__notebook__.ipynb",
      "parameters": {},
      "start_time": "2022-04-18T02:37:40.481046",
      "version": "2.3.3"
    },
    "colab": {
      "name": "add-model-ubiquant-model-ensemble-c853ea.ipynb",
      "provenance": []
    }
  },
  "nbformat": 4,
  "nbformat_minor": 5
}